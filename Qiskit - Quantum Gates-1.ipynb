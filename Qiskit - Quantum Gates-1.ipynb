{
 "metadata": {
  "language_info": {
   "codemirror_mode": {
    "name": "ipython",
    "version": 3
   },
   "file_extension": ".py",
   "mimetype": "text/x-python",
   "name": "python",
   "nbconvert_exporter": "python",
   "pygments_lexer": "ipython3",
   "version": "3.9.5"
  },
  "orig_nbformat": 2,
  "kernelspec": {
   "name": "python395jvsc74a57bd0ac59ebe37160ed0dfa835113d9b8498d9f09ceb179beaac4002f036b9467c963",
   "display_name": "Python 3.9.5 64-bit"
  },
  "metadata": {
   "interpreter": {
    "hash": "ac59ebe37160ed0dfa835113d9b8498d9f09ceb179beaac4002f036b9467c963"
   }
  }
 },
 "nbformat": 4,
 "nbformat_minor": 2,
 "cells": [
  {
   "source": [
    "# Quantum Gates - Single Qbit gates"
   ],
   "cell_type": "markdown",
   "metadata": {}
  },
  {
   "cell_type": "code",
   "execution_count": 9,
   "metadata": {},
   "outputs": [],
   "source": [
    "import qiskit as q\n",
    "from qiskit.tools.visualization import plot_histogram\n",
    "%matplotlib inline"
   ]
  },
  {
   "cell_type": "code",
   "execution_count": 11,
   "metadata": {},
   "outputs": [],
   "source": [
    "simulator = q.Aer.get_backend('aer_simulator')"
   ]
  },
  {
   "source": [
    "## X - Gate"
   ],
   "cell_type": "markdown",
   "metadata": {}
  },
  {
   "cell_type": "code",
   "execution_count": 22,
   "metadata": {},
   "outputs": [
    {
     "output_type": "execute_result",
     "data": {
      "text/plain": [
       "        ┌─────────────────┐┌───┐ ░ ┌─┐\n",
       "   q_0: ┤ initialize(0,1) ├┤ X ├─░─┤M├\n",
       "        └─────────────────┘└───┘ ░ └╥┘\n",
       "meas: 1/════════════════════════════╩═\n",
       "                                    0 "
      ],
      "text/html": "<pre style=\"word-wrap: normal;white-space: pre;background: #fff0;line-height: 1.1;font-family: &quot;Courier New&quot;,Courier,monospace\">        ┌─────────────────┐┌───┐ ░ ┌─┐\n   q_0: ┤ initialize(0,1) ├┤ X ├─░─┤M├\n        └─────────────────┘└───┘ ░ └╥┘\nmeas: 1/════════════════════════════╩═\n                                    0 </pre>"
     },
     "metadata": {},
     "execution_count": 22
    }
   ],
   "source": [
    "circuit = q.QuantumCircuit(1)\n",
    "initial_state = [0,1]   \n",
    "circuit.initialize(initial_state, 0)\n",
    "circuit.x(0)\n",
    "circuit.measure_all()\n",
    "circuit.draw()"
   ]
  },
  {
   "cell_type": "code",
   "execution_count": 23,
   "metadata": {},
   "outputs": [
    {
     "output_type": "stream",
     "name": "stdout",
     "text": [
      "{'0': 1024}\n"
     ]
    }
   ],
   "source": [
    "# test the network\n",
    "circuit = q.transpile(circuit, simulator)\n",
    "result = simulator.run(circuit).result()\n",
    "counts = result.get_counts(circuit)\n",
    "print(counts)"
   ]
  },
  {
   "source": [
    "## Z - Gate"
   ],
   "cell_type": "markdown",
   "metadata": {}
  },
  {
   "cell_type": "code",
   "execution_count": 28,
   "metadata": {},
   "outputs": [
    {
     "output_type": "execute_result",
     "data": {
      "text/plain": [
       "        ┌─────────────────┐┌───┐ ░ ┌─┐\n",
       "   q_0: ┤ initialize(1,0) ├┤ Z ├─░─┤M├\n",
       "        └─────────────────┘└───┘ ░ └╥┘\n",
       "meas: 1/════════════════════════════╩═\n",
       "                                    0 "
      ],
      "text/html": "<pre style=\"word-wrap: normal;white-space: pre;background: #fff0;line-height: 1.1;font-family: &quot;Courier New&quot;,Courier,monospace\">        ┌─────────────────┐┌───┐ ░ ┌─┐\n   q_0: ┤ initialize(1,0) ├┤ Z ├─░─┤M├\n        └─────────────────┘└───┘ ░ └╥┘\nmeas: 1/════════════════════════════╩═\n                                    0 </pre>"
     },
     "metadata": {},
     "execution_count": 28
    }
   ],
   "source": [
    "circuit = q.QuantumCircuit(1)\n",
    "initial_state = [1,0]   \n",
    "circuit.initialize(initial_state, 0)\n",
    "circuit.z(0)\n",
    "circuit.measure_all()\n",
    "circuit.draw()"
   ]
  },
  {
   "cell_type": "code",
   "execution_count": 29,
   "metadata": {},
   "outputs": [
    {
     "output_type": "stream",
     "name": "stdout",
     "text": [
      "{'0': 1024}\n"
     ]
    }
   ],
   "source": [
    "# test the network\n",
    "circuit = q.transpile(circuit, simulator)\n",
    "result = simulator.run(circuit).result()\n",
    "counts = result.get_counts(circuit)\n",
    "print(counts)"
   ]
  },
  {
   "source": [
    "## Haddamard gate"
   ],
   "cell_type": "markdown",
   "metadata": {}
  },
  {
   "cell_type": "code",
   "execution_count": 32,
   "metadata": {},
   "outputs": [
    {
     "output_type": "execute_result",
     "data": {
      "text/plain": [
       "        ┌─────────────────┐┌───┐ ░ ┌─┐\n",
       "   q_0: ┤ initialize(1,0) ├┤ H ├─░─┤M├\n",
       "        └─────────────────┘└───┘ ░ └╥┘\n",
       "meas: 1/════════════════════════════╩═\n",
       "                                    0 "
      ],
      "text/html": "<pre style=\"word-wrap: normal;white-space: pre;background: #fff0;line-height: 1.1;font-family: &quot;Courier New&quot;,Courier,monospace\">        ┌─────────────────┐┌───┐ ░ ┌─┐\n   q_0: ┤ initialize(1,0) ├┤ H ├─░─┤M├\n        └─────────────────┘└───┘ ░ └╥┘\nmeas: 1/════════════════════════════╩═\n                                    0 </pre>"
     },
     "metadata": {},
     "execution_count": 32
    }
   ],
   "source": [
    "circuit = q.QuantumCircuit(1)\n",
    "initial_state = [1,0]   \n",
    "circuit.initialize(initial_state, 0)\n",
    "circuit.h(0)\n",
    "circuit.measure_all()\n",
    "circuit.draw()"
   ]
  },
  {
   "cell_type": "code",
   "execution_count": 33,
   "metadata": {},
   "outputs": [
    {
     "output_type": "stream",
     "name": "stdout",
     "text": [
      "{'1': 534, '0': 490}\n"
     ]
    }
   ],
   "source": [
    "# test the network\n",
    "circuit = q.transpile(circuit, simulator)\n",
    "result = simulator.run(circuit).result()\n",
    "counts = result.get_counts(circuit)\n",
    "print(counts)"
   ]
  }
 ]
}